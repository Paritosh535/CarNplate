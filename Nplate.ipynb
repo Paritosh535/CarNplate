{
 "cells": [
  {
   "cell_type": "markdown",
   "metadata": {},
   "source": [
    "## Darkflow Installation\n",
    "\n",
    "In this I have described how to use custom trained model to make predictions.   \n",
    "\n",
    "\n",
    "\n",
    "1.   Insatallation\n",
    "2.   Load weights into the model configuration\n",
    "1.   Codes to make manipulations to the model output\n",
    "2.   Predictions\n"
   ]
  },
  {
   "cell_type": "code",
   "execution_count": 32,
   "metadata": {},
   "outputs": [
    {
     "name": "stdout",
     "output_type": "stream",
     "text": [
      "/home/paritosh/Nplate\r\n"
     ]
    }
   ],
   "source": [
    "#iddentify path\n",
    "!pwd"
   ]
  },
  {
   "cell_type": "code",
   "execution_count": null,
   "metadata": {},
   "outputs": [],
   "source": [
    "# Installation Lib\n",
    "# absl-py==0.7.1\n",
    "# astor==0.8.0\n",
    "# cycler==0.10.0\n",
    "# Cython==0.29.10\n",
    "# gast==0.2.2\n",
    "# grpcio==1.21.1\n",
    "# h5py==2.9.0\n",
    "# Keras-Applications==1.0.8\n",
    "# Keras-Preprocessing==1.1.0\n",
    "# kiwisolver==1.1.0\n",
    "# Markdown==3.1.1\n",
    "# matplotlib==3.1.0\n",
    "# mock==3.0.5\n",
    "# numpy==1.16.4\n",
    "# opencv-python==4.1.0.25\n",
    "# Pillow==6.0.0\n",
    "# protobuf==3.8.0\n",
    "# pyparsing==2.4.0\n",
    "# pytesseract==0.2.6\n",
    "# python-dateutil==2.8.0\n",
    "# six==1.12.0\n",
    "# tensorboard==1.13.1\n",
    "# tensorflow==1.13.1\n",
    "# tensorflow-estimator==1.13.0\n",
    "# termcolor==1.1.0\n",
    "# Werkzeug==0.15.4"
   ]
  },
  {
   "cell_type": "code",
   "execution_count": 4,
   "metadata": {},
   "outputs": [],
   "source": [
    "## clone and install lib\n",
    "# !git clone https://github.com/thtrieu/darkflow.git\n",
    "# download weights\n",
    "# https://pjreddie.com/darknet/yolo/"
   ]
  },
  {
   "cell_type": "code",
   "execution_count": 13,
   "metadata": {},
   "outputs": [],
   "source": [
    "# !pip install tensorflow-gpu==1.10.0"
   ]
  },
  {
   "cell_type": "markdown",
   "metadata": {},
   "source": [
    "##  Program\n"
   ]
  },
  {
   "cell_type": "code",
   "execution_count": 2,
   "metadata": {},
   "outputs": [],
   "source": [
    "import matplotlib.pyplot as plt\n",
    "import numpy as np\n",
    "from darkflow.net.build import TFNet\n",
    "import cv2"
   ]
  },
  {
   "cell_type": "code",
   "execution_count": 14,
   "metadata": {},
   "outputs": [],
   "source": [
    "## Atributes related to train method\n",
    "\n",
    "options = {\"model\": \"./cfg/yolo_1c.cfg\", \n",
    "           \"load\": \"./yolo.weights\",\n",
    "           \"batch\": 8,\n",
    "           \"epoch\": 25, #by default 40-42 \n",
    "           \"gpu\": 1.0,\n",
    "           \"train\": True,\n",
    "           \"annotation\": \"./data/annotations/\",\n",
    "           \"dataset\": \"./data/images/\"}"
   ]
  },
  {
   "cell_type": "code",
   "execution_count": 15,
   "metadata": {},
   "outputs": [
    {
     "name": "stdout",
     "output_type": "stream",
     "text": [
      "Parsing ./cfg/yolo.cfg\n",
      "Parsing ./cfg/yolo_1c.cfg\n",
      "Loading ./yolo.weights ...\n",
      "Successfully identified 203934260 bytes\n",
      "Finished in 0.019475698471069336s\n",
      "\n",
      "Building net ...\n",
      "Source | Train? | Layer description                | Output size\n",
      "-------+--------+----------------------------------+---------------\n",
      "       |        | input                            | (?, 608, 608, 3)\n",
      " Load  |  Yep!  | conv 3x3p1_1  +bnorm  leaky      | (?, 608, 608, 32)\n",
      " Load  |  Yep!  | maxp 2x2p0_2                     | (?, 304, 304, 32)\n",
      " Load  |  Yep!  | conv 3x3p1_1  +bnorm  leaky      | (?, 304, 304, 64)\n",
      " Load  |  Yep!  | maxp 2x2p0_2                     | (?, 152, 152, 64)\n",
      " Load  |  Yep!  | conv 3x3p1_1  +bnorm  leaky      | (?, 152, 152, 128)\n",
      " Load  |  Yep!  | conv 1x1p0_1  +bnorm  leaky      | (?, 152, 152, 64)\n",
      " Load  |  Yep!  | conv 3x3p1_1  +bnorm  leaky      | (?, 152, 152, 128)\n",
      " Load  |  Yep!  | maxp 2x2p0_2                     | (?, 76, 76, 128)\n",
      " Load  |  Yep!  | conv 3x3p1_1  +bnorm  leaky      | (?, 76, 76, 256)\n",
      " Load  |  Yep!  | conv 1x1p0_1  +bnorm  leaky      | (?, 76, 76, 128)\n",
      " Load  |  Yep!  | conv 3x3p1_1  +bnorm  leaky      | (?, 76, 76, 256)\n",
      " Load  |  Yep!  | maxp 2x2p0_2                     | (?, 38, 38, 256)\n",
      " Load  |  Yep!  | conv 3x3p1_1  +bnorm  leaky      | (?, 38, 38, 512)\n",
      " Load  |  Yep!  | conv 1x1p0_1  +bnorm  leaky      | (?, 38, 38, 256)\n",
      " Load  |  Yep!  | conv 3x3p1_1  +bnorm  leaky      | (?, 38, 38, 512)\n",
      " Load  |  Yep!  | conv 1x1p0_1  +bnorm  leaky      | (?, 38, 38, 256)\n",
      " Load  |  Yep!  | conv 3x3p1_1  +bnorm  leaky      | (?, 38, 38, 512)\n",
      " Load  |  Yep!  | maxp 2x2p0_2                     | (?, 19, 19, 512)\n",
      " Load  |  Yep!  | conv 3x3p1_1  +bnorm  leaky      | (?, 19, 19, 1024)\n",
      " Load  |  Yep!  | conv 1x1p0_1  +bnorm  leaky      | (?, 19, 19, 512)\n",
      " Load  |  Yep!  | conv 3x3p1_1  +bnorm  leaky      | (?, 19, 19, 1024)\n",
      " Load  |  Yep!  | conv 1x1p0_1  +bnorm  leaky      | (?, 19, 19, 512)\n",
      " Load  |  Yep!  | conv 3x3p1_1  +bnorm  leaky      | (?, 19, 19, 1024)\n",
      " Load  |  Yep!  | conv 3x3p1_1  +bnorm  leaky      | (?, 19, 19, 1024)\n",
      " Load  |  Yep!  | conv 3x3p1_1  +bnorm  leaky      | (?, 19, 19, 1024)\n",
      " Load  |  Yep!  | concat [16]                      | (?, 38, 38, 512)\n",
      " Load  |  Yep!  | conv 1x1p0_1  +bnorm  leaky      | (?, 38, 38, 64)\n",
      " Load  |  Yep!  | local flatten 2x2                | (?, 19, 19, 256)\n",
      " Load  |  Yep!  | concat [27, 24]                  | (?, 19, 19, 1280)\n",
      " Load  |  Yep!  | conv 3x3p1_1  +bnorm  leaky      | (?, 19, 19, 1024)\n",
      " Init  |  Yep!  | conv 1x1p0_1    linear           | (?, 19, 19, 30)\n",
      "-------+--------+----------------------------------+---------------\n",
      "GPU mode with 1.0 usage\n",
      "./cfg/yolo_1c.cfg loss hyper-parameters:\n",
      "\tH       = 19\n",
      "\tW       = 19\n",
      "\tbox     = 5\n",
      "\tclasses = 1\n",
      "\tscales  = [1.0, 5.0, 1.0, 1.0]\n",
      "Building ./cfg/yolo_1c.cfg loss\n",
      "INFO:tensorflow:Summary name ./cfg/yolo_1c.cfg loss is illegal; using ./cfg/yolo_1c.cfg_loss instead.\n",
      "Building ./cfg/yolo_1c.cfg train op\n",
      "Finished in 10.52780532836914s\n",
      "\n"
     ]
    }
   ],
   "source": [
    "## call the TFNet class\n",
    "tfnet = TFNet(options)"
   ]
  },
  {
   "cell_type": "code",
   "execution_count": null,
   "metadata": {},
   "outputs": [
    {
     "name": "stdout",
     "output_type": "stream",
     "text": [
      "\n",
      "./cfg/yolo_1c.cfg parsing ./data/annotations/\n",
      "Parsing for ['nplate'] \n",
      "[====================>]100%  IMG_20190514_105634661_HDR-compressed.xml\n",
      "Statistics:\n",
      "nplate: 206\n",
      "Dataset size: 206\n",
      "Dataset of 206 instance(s)\n",
      "Training statistics: \n",
      "\tLearning rate : 1e-05\n",
      "\tBatch size    : 8\n",
      "\tEpoch number  : 25\n",
      "\tBackup every  : 2000\n",
      "step 1 - loss 223.58236694335938 - moving ave loss 223.58236694335938\n",
      "step 2 - loss 221.4611358642578 - moving ave loss 223.37024383544923\n",
      "step 3 - loss 220.73526000976562 - moving ave loss 223.10674545288086\n",
      "step 4 - loss 219.87548828125 - moving ave loss 222.78361973571776\n",
      "step 5 - loss 218.45603942871094 - moving ave loss 222.35086170501708\n",
      "step 6 - loss 216.74957275390625 - moving ave loss 221.790732809906\n",
      "step 7 - loss 214.87356567382812 - moving ave loss 221.09901609629821\n",
      "step 8 - loss 214.54920959472656 - moving ave loss 220.44403544614107\n",
      "step 9 - loss 212.91412353515625 - moving ave loss 219.69104425504258\n",
      "step 10 - loss 213.0965118408203 - moving ave loss 219.03159101362039\n",
      "step 11 - loss 211.45111083984375 - moving ave loss 218.27354299624272\n",
      "step 12 - loss 210.79718017578125 - moving ave loss 217.5259067141966\n",
      "step 13 - loss 210.53009033203125 - moving ave loss 216.82632507598007\n",
      "step 14 - loss 208.8624267578125 - moving ave loss 216.0299352441633\n",
      "step 15 - loss 209.0780792236328 - moving ave loss 215.33474964211027\n",
      "step 16 - loss 206.87457275390625 - moving ave loss 214.48873195328986\n",
      "step 17 - loss 206.97474670410156 - moving ave loss 213.73733342837102\n",
      "step 18 - loss 205.51568603515625 - moving ave loss 212.91516868904955\n",
      "step 19 - loss 205.2733154296875 - moving ave loss 212.15098336311337\n",
      "step 20 - loss 204.100341796875 - moving ave loss 211.34591920648953\n",
      "step 21 - loss 203.7801513671875 - moving ave loss 210.58934242255933\n",
      "step 22 - loss 203.30853271484375 - moving ave loss 209.86126145178778\n",
      "step 23 - loss 201.88327026367188 - moving ave loss 209.0634623329762\n",
      "step 24 - loss 202.08935546875 - moving ave loss 208.3660516465536\n"
     ]
    }
   ],
   "source": [
    "## Model training starts\n",
    "tfnet.train()"
   ]
  },
  {
   "cell_type": "code",
   "execution_count": null,
   "metadata": {},
   "outputs": [],
   "source": []
  },
  {
   "cell_type": "markdown",
   "metadata": {},
   "source": [
    "### Checkpoint\n",
    "During training of the model, darkflow creates a folder named ckpt in the root directory where the weights are being saved after certain number of steps of training.\n",
    "\n",
    "Once the training is completed all the updated weights are stored in the ckpt folder and we can call the load method of TFNet class to load the weights in the configuration and thus the model is ready to make predictions."
   ]
  },
  {
   "cell_type": "code",
   "execution_count": null,
   "metadata": {},
   "outputs": [],
   "source": [
    "########### prediction"
   ]
  },
  {
   "cell_type": "code",
   "execution_count": 1,
   "metadata": {},
   "outputs": [
    {
     "name": "stdout",
     "output_type": "stream",
     "text": [
      "Collecting pytesseract\n",
      "\u001b[?25l  Downloading https://files.pythonhosted.org/packages/71/5a/d7600cad26276d991feecb27f3627ae2d0ee89aa1e3065fa4f9f1f2defbc/pytesseract-0.2.6.tar.gz (169kB)\n",
      "\u001b[K    100% |████████████████████████████████| 174kB 505kB/s ta 0:00:01\n",
      "\u001b[?25hRequirement already satisfied: Pillow in /home/paritosh/anaconda3/lib/python3.7/site-packages (from pytesseract) (5.4.1)\n",
      "Building wheels for collected packages: pytesseract\n",
      "  Building wheel for pytesseract (setup.py) ... \u001b[?25ldone\n",
      "\u001b[?25h  Stored in directory: /home/paritosh/.cache/pip/wheels/d5/90/56/ab7b652592da86821293f7cadc1c554aa376a0d57ce414d0a0\n",
      "Successfully built pytesseract\n",
      "Installing collected packages: pytesseract\n",
      "Successfully installed pytesseract-0.2.6\n"
     ]
    }
   ],
   "source": [
    "# ! sudo apt -y install tesseract-ocr\n",
    "# ! sudo apt -y install libtessarct-dev\n",
    "! pip install pytesseract"
   ]
  },
  {
   "cell_type": "code",
   "execution_count": null,
   "metadata": {},
   "outputs": [],
   "source": [
    "import numpy as np\n",
    "from darkflow.net.build import TFNet\n",
    "import cv2"
   ]
  },
  {
   "cell_type": "code",
   "execution_count": 2,
   "metadata": {},
   "outputs": [],
   "source": [
    "options = {\"model\": \"./cfg/yolo_1c.cfg\",\n",
    "           \"load\": -1,\n",
    "           \"gpu\": 1.0}"
   ]
  },
  {
   "cell_type": "code",
   "execution_count": 3,
   "metadata": {},
   "outputs": [
    {
     "ename": "NameError",
     "evalue": "name 'TFNet' is not defined",
     "output_type": "error",
     "traceback": [
      "\u001b[0;31m---------------------------------------------------------------------------\u001b[0m",
      "\u001b[0;31mNameError\u001b[0m                                 Traceback (most recent call last)",
      "\u001b[0;32m<ipython-input-3-10376d176bd5>\u001b[0m in \u001b[0;36m<module>\u001b[0;34m\u001b[0m\n\u001b[0;32m----> 1\u001b[0;31m \u001b[0mtfnet2\u001b[0m \u001b[0;34m=\u001b[0m \u001b[0mTFNet\u001b[0m\u001b[0;34m(\u001b[0m\u001b[0moptions\u001b[0m\u001b[0;34m)\u001b[0m\u001b[0;34m\u001b[0m\u001b[0;34m\u001b[0m\u001b[0m\n\u001b[0m",
      "\u001b[0;31mNameError\u001b[0m: name 'TFNet' is not defined"
     ]
    }
   ],
   "source": [
    "tfnet2 = TFNet(options)"
   ]
  },
  {
   "cell_type": "code",
   "execution_count": 114,
   "metadata": {},
   "outputs": [
    {
     "name": "stdout",
     "output_type": "stream",
     "text": [
      "Loading from ./ckpt/yolo_1c-1000\n",
      "INFO:tensorflow:Restoring parameters from ./ckpt/yolo_1c-1000\n"
     ]
    }
   ],
   "source": [
    "tfnet2.load_from_ckpt()"
   ]
  },
  {
   "cell_type": "code",
   "execution_count": 115,
   "metadata": {},
   "outputs": [],
   "source": [
    "def read_img(path):\n",
    "  \n",
    "  original_img = cv2.imread(path)\n",
    "  original_img = cv2.cvtColor(original_img, cv2.COLOR_BGR2RGB)\n",
    "  return original_img\n",
    "\n",
    "def pred(original_img):\n",
    "  predictions = tfnet2.return_predict(original_img)\n",
    "  return predictions\n",
    "\n",
    "def boxing(original_img , predictions):\n",
    "    newImage = np.copy(original_img)\n",
    "    \n",
    "    result =  max(predictions, key = lambda x: x['confidence'])\n",
    "    \n",
    "    top_x = result['topleft']['x']\n",
    "    top_y = result['topleft']['y']\n",
    "\n",
    "    btm_x = result['bottomright']['x']\n",
    "    btm_y = result['bottomright']['y']\n",
    "\n",
    "    confidence = result['confidence']\n",
    "    label = result['label'] + \" \" + str(round(confidence, 3))\n",
    "    if confidence > 0.15:\n",
    "      newImage = cv2.rectangle(newImage, (top_x, top_y), (btm_x, btm_y), (255,0,0), 3)\n",
    "      newImage = cv2.putText(newImage, label, (top_x, top_y-5), cv2.FONT_HERSHEY_COMPLEX_SMALL , 0.8, (0, 230, 0), 1, cv2.LINE_AA)\n",
    "        \n",
    "    return newImage\n",
    "  \n",
    "def croping(original_img , predictions):\n",
    "  \n",
    "    newImage = np.copy(original_img)\n",
    "    result = max(predictions, key = lambda x : x['confidence'])\n",
    "    top_x = result['topleft']['x']\n",
    "    top_y = result['topleft']['y']\n",
    "    btm_x = result['bottomright']['x']\n",
    "    btm_y = result['bottomright']['y']\n",
    "    confidence = result['confidence']\n",
    "    label = result['label'] + \" \" + str(round(confidence, 3))\n",
    "    if confidence > 0.15:\n",
    "      crop1_img = original_img[top_y : btm_y, top_x : btm_x]\n",
    "    return crop1_img"
   ]
  },
  {
   "cell_type": "code",
   "execution_count": null,
   "metadata": {},
   "outputs": [],
   "source": [
    "def nplate(image)"
   ]
  },
  {
   "cell_type": "code",
   "execution_count": 126,
   "metadata": {},
   "outputs": [],
   "source": [
    "\n",
    "def predict(path, config):\n",
    "  \n",
    "    original_img = read_img(path)\n",
    "\n",
    "    predictions = pred(original_img)\n",
    "\n",
    "    newImg = boxing(original_img, predictions)\n",
    "\n",
    "    crop_img = croping(original_img, predictions)\n",
    "\n",
    "#     text = get_text(crop_img, config=config)\n",
    "    text=\"d\"\n",
    "\n",
    "    return newImg,text"
   ]
  },
  {
   "cell_type": "code",
   "execution_count": 124,
   "metadata": {},
   "outputs": [],
   "source": [
    "path=\"test.jpg\"\n",
    "\n",
    "\n",
    "config = ('-l eng --oem 1 --psm 3')"
   ]
  },
  {
   "cell_type": "code",
   "execution_count": 127,
   "metadata": {},
   "outputs": [
    {
     "data": {
      "text/plain": [
       "<matplotlib.image.AxesImage at 0x7f1ff76901d0>"
      ]
     },
     "execution_count": 127,
     "metadata": {},
     "output_type": "execute_result"
    },
    {
     "data": {
      "image/png": "[encoded data removed]",
      "text/plain": [
       "<Figure size 432x288 with 1 Axes>"
      ]
     },
     "metadata": {
      "needs_background": "light"
     },
     "output_type": "display_data"
    }
   ],
   "source": [
    "_prefix, _suffix = os.path.splitext(str(file_upload.file))img,text=predict(path,config)\n",
    "plt.imshow(img)"
   ]
  },
  {
   "cell_type": "code",
   "execution_count": null,
   "metadata": {},
   "outputs": [],
   "source": [
    "# ! sudo apt install tesseract-ocr\n",
    "# ! sudo apt install libtessarct-dev\n",
    "# ! pip install pytesseract"
   ]
  },
  {
   "cell_type": "code",
   "execution_count": 12,
   "metadata": {},
   "outputs": [],
   "source": [
    "import os"
   ]
  },
  {
   "cell_type": "code",
   "execution_count": 13,
   "metadata": {},
   "outputs": [],
   "source": [
    "_prefix, _suffix = os.path.splitext(str(\"/home/paritosh/images/43.jpg\"))"
   ]
  },
  {
   "cell_type": "code",
   "execution_count": 14,
   "metadata": {},
   "outputs": [
    {
     "data": {
      "text/plain": [
       "'/home/paritosh/images/43'"
      ]
     },
     "execution_count": 14,
     "metadata": {},
     "output_type": "execute_result"
    }
   ],
   "source": [
    "_prefix"
   ]
  },
  {
   "cell_type": "code",
   "execution_count": 33,
   "metadata": {},
   "outputs": [],
   "source": [
    "import ntpath\n",
    "def path_leaf(path):\n",
    "    head, tail = ntpath.split(path)\n",
    "    return tail , ntpath.abspath(head)"
   ]
  },
  {
   "cell_type": "code",
   "execution_count": 34,
   "metadata": {},
   "outputs": [],
   "source": [
    "a,b=path_leaf(\"/home/paritosh/images/43.jpg\")"
   ]
  },
  {
   "cell_type": "code",
   "execution_count": 36,
   "metadata": {},
   "outputs": [],
   "source": [
    "head, tail = os.path.split(\"/home/paritosh/images/43.jpg\")"
   ]
  },
  {
   "cell_type": "code",
   "execution_count": 39,
   "metadata": {},
   "outputs": [],
   "source": [
    "import matplotlib.pyplot as plt"
   ]
  },
  {
   "cell_type": "code",
   "execution_count": null,
   "metadata": {},
   "outputs": [],
   "source": [
    "import numpy as np\n",
    "import matplotlib.pyplot as plt\n",
    "\n",
    "# some data (512x512)\n",
    "import scipy.misc\n",
    "data = scipy.misc.lena()\n",
    "\n",
    "# a colormap and a normalization instance\n",
    "cmap = plt.cm.jet\n",
    "norm = plt.Normalize(vmin=data.min(), vmax=data.max())\n",
    "\n",
    "# map the normalized data to colors\n",
    "# image is now RGBA (512x512x4) \n",
    "image = cmap(norm(data))\n",
    "\n",
    "# save the image\n",
    "plt.imsave('test.png', image)"
   ]
  }
 ],
 "metadata": {
  "kernelspec": {
   "display_name": "Python 3",
   "language": "python",
   "name": "python3"
  },
  "language_info": {
   "codemirror_mode": {
    "name": "ipython",
    "version": 3
   },
   "file_extension": ".py",
   "mimetype": "text/x-python",
   "name": "python",
   "nbconvert_exporter": "python",
   "pygments_lexer": "ipython3",
   "version": "3.6.8"
  }
 },
 "nbformat": 4,
 "nbformat_minor": 2
}
